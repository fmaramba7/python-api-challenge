{
 "cells": [
  {
   "cell_type": "markdown",
   "metadata": {},
   "source": [
    "# WeatherPy\n",
    "----\n",
    "\n",
    "#### Note\n",
    "* Instructions have been included for each segment. You do not have to follow them exactly, but they are included to help you think through the steps."
   ]
  },
  {
   "cell_type": "code",
   "execution_count": 5,
   "metadata": {
    "scrolled": true
   },
   "outputs": [],
   "source": [
    "# Dependencies and Setup\n",
    "import matplotlib.pyplot as plt\n",
    "import pandas as pd\n",
    "import numpy as np\n",
    "import requests\n",
    "import time\n",
    "from scipy.stats import linregress\n",
    "\n",
    "# Import API key\n",
    "from api_keys import weather_api_key\n",
    "from api_keys import g_key\n",
    "\n",
    "# Incorporated citipy to determine city based on latitude and longitude\n",
    "from citipy import citipy\n",
    "\n",
    "# Output File (CSV)\n",
    "output_data_file = \"output_data/cities.csv\"\n",
    "\n",
    "# Range of latitudes and longitudes\n",
    "lat_range = (-90, 90)\n",
    "lng_range = (-180, 180)\n",
    "\n",
    "\n"
   ]
  },
  {
   "cell_type": "markdown",
   "metadata": {},
   "source": [
    "## Generate Cities List"
   ]
  },
  {
   "cell_type": "code",
   "execution_count": 6,
   "metadata": {},
   "outputs": [
    {
     "name": "stdout",
     "output_type": "stream",
     "text": [
      "1500\n"
     ]
    },
    {
     "data": {
      "text/plain": [
       "605"
      ]
     },
     "execution_count": 6,
     "metadata": {},
     "output_type": "execute_result"
    }
   ],
   "source": [
    "# List for holding lat_lngs and cities\n",
    "lat_lngs = []\n",
    "cities = []\n",
    "valid_lats = []\n",
    "valid_lngs = []\n",
    "\n",
    "# Create a set of random lat and lng combinations\n",
    "lats = np.random.uniform(lat_range[0], lat_range[1], size=1500)\n",
    "lngs = np.random.uniform(lng_range[0], lng_range[1], size=1500)\n",
    "lat_lngs = zip(lats, lngs)\n",
    "print (len(lats))\n",
    "\n",
    "# Identify nearest city for each lat, lng combination\n",
    "for lat_lng in lat_lngs:\n",
    "    city = citipy.nearest_city(lat_lng[0], lat_lng[1]).city_name\n",
    "        \n",
    "    # If the city is unique, then add it to a our cities list\n",
    "    if city not in cities:\n",
    "        cities.append(city)\n",
    "        \n",
    "\n",
    "# Print the city count to confirm sufficient count\n",
    "len(cities)"
   ]
  },
  {
   "cell_type": "code",
   "execution_count": null,
   "metadata": {},
   "outputs": [
    {
     "name": "stdout",
     "output_type": "stream",
     "text": [
      "city: albany 1\n",
      "city: ust-kuyga 2\n",
      "city: boshnyakovo 3\n",
      "city: isangel 4\n",
      "city: sarakhs 5\n",
      "city: saskylakh 6\n",
      "city: sitka 7\n",
      "city: bolobo 8\n",
      "city: kaitangata 9\n",
      "city: sinnamary 10\n",
      "city: hobart 11\n",
      "city: kahului 12\n",
      "city: saint-joseph 13\n",
      "city: uruzgan 14\n",
      "city: carnarvon 15\n",
      "city: hue 16\n",
      "city: vaini 17\n",
      "city: tasiilaq 18\n",
      "city: busselton 19\n",
      "city: lebu 20\n",
      "city: rauma 21\n",
      "city: chapais 22\n",
      "city: hambantota 23\n",
      "city: sochaczew 24\n",
      "city: bluff 25\n",
      "city: clacton-on-sea 26\n",
      "not found amderma\n",
      "city: kapaa 27\n",
      "city: bengkulu 28\n",
      "not found belushya guba\n",
      "city: upernavik 29\n",
      "city: haradok 30\n",
      "city: qaanaaq 31\n",
      "city: rikitea 32\n",
      "city: khandbari 33\n",
      "city: bredasdorp 34\n",
      "city: punta arenas 35\n",
      "city: codrington 36\n",
      "not found karaul\n",
      "city: abu samrah 37\n",
      "city: hermanus 38\n",
      "city: panaba 39\n",
      "city: narsipatnam 40\n",
      "city: lata 41\n",
      "city: natal 42\n",
      "city: georgetown 43\n",
      "city: kandalaksha 44\n",
      "city: lompoc 45\n",
      "city: calama 46\n",
      "city: klaksvik 47\n",
      "city: zhigansk 48\n",
      "city: harstad 49\n",
      "city: sao filipe 50\n",
      "city: dikson 51\n",
      "city: los llanos de aridane 52\n",
      "city: victoria 53\n",
      "city: mataura 54\n",
      "not found taolanaro\n",
      "city: atuona 55\n",
      "not found grand river south east\n",
      "city: kodiak 56\n",
      "not found barentsburg\n",
      "city: jamestown 57\n",
      "city: ushuaia 58\n",
      "not found illoqqortoormiut\n",
      "city: hamina 59\n",
      "city: havre-saint-pierre 60\n",
      "city: saint-philippe 61\n",
      "city: sainte-marie 62\n",
      "city: sorland 63\n",
      "city: thompson 64\n",
      "city: nikolskoye 65\n",
      "city: andover 66\n",
      "city: gerash 67\n",
      "city: marystown 68\n",
      "city: cockburn town 69\n",
      "city: puerto ayora 70\n",
      "city: esperance 71\n",
      "city: kang 72\n",
      "city: vrangel 73\n",
      "city: castro 74\n",
      "city: torbay 75\n",
      "city: sortland 76\n",
      "city: roebourne 77\n",
      "city: bougouni 78\n",
      "city: inirida 79\n",
      "city: yellowknife 80\n",
      "city: dagshai 81\n",
      "city: port hedland 82\n",
      "city: gazanjyk 83\n",
      "city: fairbanks 84\n",
      "city: hualmay 85\n",
      "city: cape town 86\n",
      "city: hilo 87\n",
      "city: korla 88\n",
      "not found xadani\n",
      "not found saleaula\n",
      "city: nanortalik 89\n",
      "city: pevek 90\n",
      "city: conceicao da barra 91\n",
      "city: barrow 92\n",
      "not found yithion\n",
      "city: stornoway 93\n",
      "city: najran 94\n",
      "city: tripoli 95\n",
      "city: guerrero negro 96\n",
      "city: tura 97\n",
      "city: likasi 98\n",
      "city: redcar 99\n",
      "city: ostrovnoy 100\n",
      "not found kerki\n",
      "city: fortuna 101\n",
      "city: padang 102\n",
      "city: new norfolk 103\n",
      "city: esna 104\n",
      "city: grand haven 105\n",
      "city: gdansk 106\n",
      "city: east london 107\n",
      "city: hall 108\n",
      "not found vaitupu\n",
      "city: bethel 109\n",
      "city: tautira 110\n",
      "city: smulti 111\n",
      "city: avarua 112\n",
      "city: kimbe 113\n",
      "city: tuktoyaktuk 114\n",
      "city: kavieng 115\n",
      "not found chagda\n",
      "city: kruisfontein 116\n",
      "city: tiksi 117\n",
      "city: orlik 118\n",
      "city: ozernovskiy 119\n",
      "city: mar del plata 120\n",
      "not found skagastrond\n",
      "city: longyearbyen 121\n",
      "city: erzin 122\n",
      "city: hithadhoo 123\n",
      "city: la ciotat 124\n",
      "city: george 125\n",
      "city: xiaoweizhai 126\n",
      "city: narsaq 127\n",
      "city: sooke 128\n",
      "city: faanui 129\n",
      "city: mbuyapey 130\n",
      "city: muros 131\n",
      "city: pimenteiras 132\n",
      "not found sedelnikovo\n",
      "city: hobyo 133\n",
      "city: laohekou 134\n",
      "city: saint george 135\n",
      "city: vao 136\n",
      "city: okhotsk 137\n",
      "city: dzhebariki-khaya 138\n",
      "city: stribro 139\n",
      "city: khatanga 140\n",
      "city: ippy 141\n",
      "city: chachapoyas 142\n",
      "city: presidencia roque saenz pena 143\n",
      "city: norman wells 144\n",
      "not found nizhneyansk\n",
      "city: nueve de julio 145\n",
      "city: port alfred 146\n",
      "not found mahadday weyne\n",
      "not found palabuhanratu\n",
      "city: rincon 147\n",
      "city: lodwar 148\n",
      "not found portpatrick\n",
      "city: lubango 149\n",
      "city: caravelas 150\n",
      "city: phonhong 151\n",
      "city: cayenne 152\n",
      "city: balkanabat 153\n",
      "city: vung tau 154\n",
      "city: airai 155\n",
      "city: komsomolskiy 156\n",
      "city: saint anthony 157\n",
      "city: luderitz 158\n",
      "not found attawapiskat\n",
      "city: coihaique 159\n",
      "city: riyadh 160\n",
      "city: panevezys 161\n",
      "city: alofi 162\n",
      "city: kijang 163\n",
      "city: atambua 164\n",
      "city: leningradskiy 165\n",
      "city: inongo 166\n",
      "city: vulcan 167\n",
      "city: quata 168\n",
      "city: tahe 169\n",
      "city: hluti 170\n",
      "city: pacific grove 171\n",
      "city: lucea 172\n",
      "city: badiraguato 173\n",
      "city: geraldton 174\n",
      "city: fuerte olimpo 175\n",
      "city: rimbey 176\n",
      "city: marzuq 177\n",
      "city: vostok 178\n",
      "city: colares 179\n",
      "city: ketchikan 180\n",
      "city: seoul 181\n",
      "city: biak 182\n",
      "city: changji 183\n",
      "city: cidreira 184\n",
      "city: arrifes 185\n",
      "city: tungor 186\n",
      "city: nouadhibou 187\n",
      "city: tarrega 188\n",
      "city: grand gaube 189\n",
      "city: srednekolymsk 190\n",
      "city: deputatskiy 191\n",
      "city: iqaluit 192\n",
      "not found bolungarvik\n",
      "not found samusu\n",
      "city: saldanha 193\n",
      "city: sidi ali 194\n",
      "city: revelstoke 195\n",
      "city: aklavik 196\n",
      "city: road town 197\n",
      "city: vila velha 198\n",
      "city: chokurdakh 199\n",
      "city: oussouye 200\n",
      "city: lalmohan 201\n",
      "city: butaritari 202\n",
      "city: vanimo 203\n",
      "city: inuvik 204\n",
      "city: marshfield 205\n",
      "city: flin flon 206\n",
      "city: viljoenskroon 207\n",
      "city: mahebourg 208\n",
      "city: gwanda 209\n",
      "city: xai-xai 210\n",
      "city: nago 211\n",
      "city: whitehorse 212\n",
      "city: krasnoselkup 213\n",
      "city: maragogi 214\n",
      "city: belyy yar 215\n",
      "city: marawi 216\n",
      "city: dormidontovka 217\n",
      "city: rion 218\n",
      "city: noshiro 219\n",
      "city: lashio 220\n",
      "city: tahoua 221\n",
      "not found sentyabrskiy\n",
      "city: kozhva 222\n",
      "city: saint-pierre 223\n",
      "city: hami 224\n"
     ]
    }
   ],
   "source": [
    "url =\"http://api.openweathermap.org/data/2.5/weather?\"\n",
    "units = 'imperial'\n",
    "\n",
    "\n",
    "#print (weather_json)\n",
    "\n",
    "lat =[]\n",
    "lon =[]\n",
    "temperatures = []\n",
    "wind_speed = []\n",
    "clouds = [] \n",
    "humidity = []\n",
    "country =[]\n",
    "date = []\n",
    "cities_found = []\n",
    "\n",
    "city_count = 0\n",
    "\n",
    "for city in cities:\n",
    "    \n",
    "    query_url = url + \"appid=\" + weather_api_key + '&q=' + city + '&units=imperial'\n",
    "    \n",
    "    try:\n",
    "        weather_response = requests.get(query_url)\n",
    "        weather_json = weather_response.json()\n",
    "\n",
    "\n",
    "        lon.append(weather_json[\"coord\"][\"lon\"])\n",
    "        lat.append(weather_json[\"coord\"][\"lat\"])\n",
    "\n",
    "        temperatures.append(weather_json[\"main\"][\"temp\"])\n",
    "        wind_speed.append(weather_json [\"wind\"][\"speed\"])\n",
    "        clouds.append(weather_json[\"clouds\"][\"all\"])\n",
    "        humidity.append(weather_json[\"main\"][\"humidity\"])\n",
    "        country.append(weather_json[\"sys\"][\"country\"])\n",
    "        date.append(weather_json[\"dt\"])\n",
    "        cities_found.append(city)\n",
    "\n",
    "        city_count = city_count + 1\n",
    "        print(\"city: \"+ city +\" \" + str(city_count))\n",
    "    except:\n",
    "        print(\"not found \" + city)\n"
   ]
  },
  {
   "cell_type": "code",
   "execution_count": null,
   "metadata": {},
   "outputs": [],
   "source": [
    "weather_response"
   ]
  },
  {
   "cell_type": "code",
   "execution_count": null,
   "metadata": {},
   "outputs": [],
   "source": [
    "city_df = pd.DataFrame ({\n",
    "                        \"City_Name\":cities_found,\n",
    "                        \"Latitude\": lat,\n",
    "                        \"Longitude\": lon,\n",
    "                        \"Temperature\": temperatures,\n",
    "                        \"Wind Speed\": wind_speed,\n",
    "                        \"Cloudiness\": clouds,\n",
    "                        \"Humidity\": humidity,\n",
    "                        \"Country\":country,\n",
    "                        \"Date\": date\n",
    "\n",
    "})\n",
    "\n",
    "city_df"
   ]
  },
  {
   "cell_type": "code",
   "execution_count": null,
   "metadata": {},
   "outputs": [],
   "source": [
    "#drop rows containing invalid data\n",
    "\n",
    "city_df.dropna(axis=0)\n",
    "city_df.head()"
   ]
  },
  {
   "cell_type": "code",
   "execution_count": null,
   "metadata": {},
   "outputs": [],
   "source": [
    "weather_response"
   ]
  },
  {
   "cell_type": "code",
   "execution_count": null,
   "metadata": {},
   "outputs": [],
   "source": [
    "### Perform API Calls\n",
    "* Perform a weather check on each city using a series of successive API calls.\n",
    "* Include a print log of each city as it'sbeing processed (with the city number and city name).\n"
   ]
  },
  {
   "cell_type": "code",
   "execution_count": null,
   "metadata": {
    "scrolled": true
   },
   "outputs": [],
   "source": []
  },
  {
   "cell_type": "markdown",
   "metadata": {},
   "source": [
    "### Convert Raw Data to DataFrame\n",
    "* Export the city data into a .csv.\n",
    "* Display the DataFrame"
   ]
  },
  {
   "cell_type": "code",
   "execution_count": 16,
   "metadata": {},
   "outputs": [],
   "source": [
    "city_df.to_csv('cities.csv', index = False)"
   ]
  },
  {
   "cell_type": "code",
   "execution_count": null,
   "metadata": {},
   "outputs": [],
   "source": [
    "city_data_to_load = \"cities.csv\"\n",
    "\n",
    "city_data = pd.read_csv(city_data_to_load)"
   ]
  },
  {
   "cell_type": "code",
   "execution_count": null,
   "metadata": {},
   "outputs": [],
   "source": []
  },
  {
   "cell_type": "markdown",
   "metadata": {},
   "source": [
    "## Inspect the data and remove the cities where the humidity > 100%.\n",
    "----\n",
    "Skip this step if there are no cities that have humidity > 100%. "
   ]
  },
  {
   "cell_type": "code",
   "execution_count": null,
   "metadata": {},
   "outputs": [],
   "source": [
    "humidity_count = city_df.loc[city_df['Humidity']> 100]\n",
    "\n",
    "(len(humidity_count))"
   ]
  },
  {
   "cell_type": "code",
   "execution_count": null,
   "metadata": {},
   "outputs": [],
   "source": [
    "#  Get the indices of cities that have humidity over 100%.\n"
   ]
  },
  {
   "cell_type": "code",
   "execution_count": null,
   "metadata": {},
   "outputs": [],
   "source": [
    "# Make a new DataFrame equal to the city data to drop all humidity outliers by index.\n",
    "# Passing \"inplace=False\" will make a copy of the city_data DataFrame, which we call \"clean_city_data\".\n"
   ]
  },
  {
   "cell_type": "code",
   "execution_count": null,
   "metadata": {},
   "outputs": [],
   "source": [
    "humidity_count = city_df.loc[city_df['Humidity']<= 100]\n",
    "humidity_count"
   ]
  },
  {
   "cell_type": "code",
   "execution_count": null,
   "metadata": {},
   "outputs": [],
   "source": []
  },
  {
   "cell_type": "code",
   "execution_count": null,
   "metadata": {},
   "outputs": [],
   "source": [
    "\n"
   ]
  },
  {
   "cell_type": "markdown",
   "metadata": {},
   "source": [
    "## Plotting the Data\n",
    "* Use proper labeling of the plots using plot titles (including date of analysis) and axes labels.\n",
    "* Save the plotted figures as .pngs."
   ]
  },
  {
   "cell_type": "markdown",
   "metadata": {},
   "source": [
    "## Latitude vs. Temperature Plot"
   ]
  },
  {
   "cell_type": "code",
   "execution_count": null,
   "metadata": {
    "scrolled": true
   },
   "outputs": [],
   "source": [
    "plt_scatter(city_df['Latitude'], city_df['Temperature'])\n",
    "plt.ylabel('Max Temperature (F)')\n",
    "plt.xlabel('Latitude')\n",
    "plt.title('City Latitude vs. Max Temperature')\n",
    "Plt.show()"
   ]
  },
  {
   "cell_type": "markdown",
   "metadata": {},
   "source": [
    "## Latitude vs. Humidity Plot"
   ]
  },
  {
   "cell_type": "code",
   "execution_count": null,
   "metadata": {},
   "outputs": [],
   "source": [
    "plt_scatter(city_df['Latitude'], city_df['Humidity'])\n",
    "plt.ylabel('Humidity (%)')\n",
    "plt.xlabel('Latitude')\n",
    "plt.title('City Latitude vs. Humidity Plot')\n",
    "Plt.show()"
   ]
  },
  {
   "cell_type": "markdown",
   "metadata": {},
   "source": [
    "## Latitude vs. Cloudiness Plot"
   ]
  },
  {
   "cell_type": "code",
   "execution_count": null,
   "metadata": {},
   "outputs": [],
   "source": [
    "plt_scatter(city_df['Latitude'], city_df['Clouds'])\n",
    "plt.ylabel('Clouds (%)')\n",
    "plt.xlabel('Latitude')\n",
    "plt.title('City Latitude vs. Cloudiness Plot')\n",
    "Plt.show()"
   ]
  },
  {
   "cell_type": "markdown",
   "metadata": {},
   "source": [
    "## Latitude vs. Wind Speed Plot"
   ]
  },
  {
   "cell_type": "code",
   "execution_count": null,
   "metadata": {},
   "outputs": [],
   "source": [
    "plt_scatter(city_df['Latitude'], city_df['Wind_speed'])\n",
    "plt.ylabel('Wind_speed (mph)')\n",
    "plt.xlabel('Latitude')\n",
    "plt.title('City Latitude vs. Wind Speed Plot')\n",
    "Plt.show()"
   ]
  },
  {
   "cell_type": "markdown",
   "metadata": {},
   "source": [
    "## Linear Regression"
   ]
  },
  {
   "cell_type": "code",
   "execution_count": null,
   "metadata": {},
   "outputs": [],
   "source": []
  },
  {
   "cell_type": "markdown",
   "metadata": {},
   "source": [
    "####  Northern Hemisphere - Max Temp vs. Latitude Linear Regression"
   ]
  },
  {
   "cell_type": "code",
   "execution_count": null,
   "metadata": {},
   "outputs": [],
   "source": [
    "x = northern_hemisphere_df ['Temperature']\n",
    "y = northern_hemisphere_df ['Latitude']\n",
    "\n",
    "correlation = st.pearsonr(x,y)\n",
    "print(f\"\"\"The correlation between weight and average weather{round(correlation[0],2)}.\"\"\")\n",
    "\n",
    "(slope, intercept, rvalue, pvalue, stderr) = lintrgress(x,y)\n",
    "regress_value =x + slope +intercpet\n",
    "line_ed =\"y\" + st(round(slope,2)) + \"x\" + st(round(intercept,2))\n",
    "plt.scatter(x,y)\n"
   ]
  },
  {
   "cell_type": "code",
   "execution_count": null,
   "metadata": {},
   "outputs": [],
   "source": [
    "plt_scatter(city_df['Latitude'], city_df['Humidity'])\n",
    "plt.ylabel('Humidity (%)')\n",
    "plt.xlabel('Latitude')\n",
    "plt.title('City Latitude vs. Humidity Plot')\n",
    "Plt.show()plt_scatter(city_df['Temperature'], city_df['Latitude'])\n",
    "plt.ylabel('Temperature')\n",
    "plt.xlabel('Latitude')\n",
    "plt.title('Northern Hemisphere - Max Temp vs. Latitude Linear Regression')\n",
    "Plt.show()"
   ]
  },
  {
   "cell_type": "markdown",
   "metadata": {},
   "source": [
    "####  Southern Hemisphere - Max Temp vs. Latitude Linear Regression"
   ]
  },
  {
   "cell_type": "code",
   "execution_count": null,
   "metadata": {},
   "outputs": [],
   "source": [
    "x = southern_hemisphere_df ['Temperature']\n",
    "y = southern_hemisphere_df ['Latitude']\n",
    "\n",
    "correlation = st.pearsonr(x,y)\n",
    "print(f\"\"\"The correlation between weight and average weather{round(correlation[0],2)}.\"\"\")\n",
    "\n",
    "(slope, intercept, rvalue, pvalue, stderr) = lintrgress(x,y)\n",
    "regress_value =x + slope +intercpet\n",
    "line_ed =\"y\" + st(round(slope,2)) + \"x\" + st(round(intercept,2))\n",
    "plt.scatter(x,y)"
   ]
  },
  {
   "cell_type": "markdown",
   "metadata": {},
   "source": [
    "####  Northern Hemisphere - Humidity (%) vs. Latitude Linear Regression"
   ]
  },
  {
   "cell_type": "code",
   "execution_count": null,
   "metadata": {},
   "outputs": [],
   "source": [
    "x = northern_hemisphere_df ['Humidity']\n",
    "y = northern_hemisphere_df ['Latitude']\n",
    "\n",
    "plt_scatter(city_df['Latitude'], city_df['Clouds'])\n",
    "plt.ylabel('Humidity (%)')\n",
    "plt.xlabel('Latitude')\n",
    "plt.title('City Latitude vs. Cloudiness Plot')\n",
    "Plt.show()"
   ]
  },
  {
   "cell_type": "markdown",
   "metadata": {},
   "source": [
    "####  Southern Hemisphere - Humidity (%) vs. Latitude Linear Regression"
   ]
  },
  {
   "cell_type": "code",
   "execution_count": null,
   "metadata": {},
   "outputs": [],
   "source": [
    "x = southern_hemisphere_df ['Humidity']\n",
    "y = southern_hemisphere_df ['Latitude']\n",
    "\n",
    "plt_scatter(city_df['Latitude'], city_df['Clouds'])\n",
    "plt.ylabel('Humidity (%)')\n",
    "plt.xlabel('Latitude')\n",
    "plt.title('City Latitude vs. Cloudiness Plot')\n",
    "Plt.show()"
   ]
  },
  {
   "cell_type": "markdown",
   "metadata": {},
   "source": [
    "####  Northern Hemisphere - Cloudiness (%) vs. Latitude Linear Regression"
   ]
  },
  {
   "cell_type": "code",
   "execution_count": null,
   "metadata": {},
   "outputs": [],
   "source": [
    "x = northern_hemisphere_df ['Clouds']\n",
    "y = northern_hemisphere_df ['Latitude']\n",
    "\n",
    "correlation = st.pearsonr(x,y)\n",
    "print(f\"\"\"The correlation between weight and average weather{round(correlation[0],2)}.\"\"\")\n",
    "\n",
    "(slope, intercept, rvalue, pvalue, stderr) = lintrgress(x,y)\n",
    "regress_value =x + slope +intercpet\n",
    "line_ed =\"y\" + st(round(slope,2)) + \"x\" + st(round(intercept,2))\n",
    "plt.scatter(x,y)"
   ]
  },
  {
   "cell_type": "markdown",
   "metadata": {},
   "source": [
    "####  Southern Hemisphere - Cloudiness (%) vs. Latitude Linear Regression"
   ]
  },
  {
   "cell_type": "code",
   "execution_count": null,
   "metadata": {},
   "outputs": [],
   "source": [
    "x = souththern_hemisphere_df ['Clouds']\n",
    "y = souththern_hemisphere_df ['Latitude']\n",
    "\n",
    "correlation = st.pearsonr(x,y)\n",
    "print(f\"\"\"The correlation between weight and average weather{round(correlation[0],2)}.\"\"\")\n",
    "\n",
    "(slope, intercept, rvalue, pvalue, stderr) = lintrgress(x,y)\n",
    "regress_value =x + slope +intercpet\n",
    "line_ed =\"y\" + st(round(slope,2)) + \"x\" + st(round(intercept,2))\n",
    "plt.scatter(x,y)"
   ]
  },
  {
   "cell_type": "markdown",
   "metadata": {},
   "source": [
    "####  Northern Hemisphere - Wind Speed (mph) vs. Latitude Linear Regression"
   ]
  },
  {
   "cell_type": "code",
   "execution_count": null,
   "metadata": {},
   "outputs": [],
   "source": [
    "x = norththern_hemisphere_df ['Wind Speed']\n",
    "y = norththern_hemisphere_df ['Latitude']\n",
    "\n",
    "correlation = st.pearsonr(x,y)\n",
    "print(f\"\"\"The correlation between weight and average weather{round(correlation[0],2)}.\"\"\")\n",
    "\n",
    "(slope, intercept, rvalue, pvalue, stderr) = lintrgress(x,y)\n",
    "regress_value =x + slope +intercpet\n",
    "line_ed =\"y\" + st(round(slope,2)) + \"x\" + st(round(intercept,2))\n",
    "plt.scatter(x,y)\n"
   ]
  },
  {
   "cell_type": "markdown",
   "metadata": {},
   "source": [
    "####  Southern Hemisphere - Wind Speed (mph) vs. Latitude Linear Regression"
   ]
  },
  {
   "cell_type": "code",
   "execution_count": null,
   "metadata": {},
   "outputs": [],
   "source": [
    "x = souththern_hemisphere_df ['Wind Speed']\n",
    "y = souththern_hemisphere_df ['Latitude']\n",
    "\n",
    "correlation = st.pearsonr(x,y)\n",
    "print(f\"\"\"The correlation between weight and average weather{round(correlation[0],2)}.\"\"\")\n",
    "\n",
    "(slope, intercept, rvalue, pvalue, stderr) = lintrgress(x,y)\n",
    "regress_value =x + slope +intercpet\n",
    "line_ed =\"y\" + st(round(slope,2)) + \"x\" + st(round(intercept,2))\n",
    "plt.scatter(x,y)"
   ]
  },
  {
   "cell_type": "code",
   "execution_count": null,
   "metadata": {},
   "outputs": [],
   "source": []
  }
 ],
 "metadata": {
  "anaconda-cloud": {},
  "kernel_info": {
   "name": "python3"
  },
  "kernelspec": {
   "display_name": "Python 3 (ipykernel)",
   "language": "python",
   "name": "python3"
  },
  "language_info": {
   "codemirror_mode": {
    "name": "ipython",
    "version": 3
   },
   "file_extension": ".py",
   "mimetype": "text/x-python",
   "name": "python",
   "nbconvert_exporter": "python",
   "pygments_lexer": "ipython3",
   "version": "3.8.12"
  },
  "latex_envs": {
   "LaTeX_envs_menu_present": true,
   "autoclose": false,
   "autocomplete": true,
   "bibliofile": "biblio.bib",
   "cite_by": "apalike",
   "current_citInitial": 1,
   "eqLabelWithNumbers": true,
   "eqNumInitial": 1,
   "hotkeys": {
    "equation": "Ctrl-E",
    "itemize": "Ctrl-I"
   },
   "labels_anchors": false,
   "latex_user_defs": false,
   "report_style_numbering": false,
   "user_envs_cfg": false
  },
  "nteract": {
   "version": "0.12.3"
  }
 },
 "nbformat": 4,
 "nbformat_minor": 2
}
